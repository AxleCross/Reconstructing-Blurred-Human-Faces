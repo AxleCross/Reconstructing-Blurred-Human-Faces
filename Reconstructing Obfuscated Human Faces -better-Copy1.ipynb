{
 "cells": [
  {
   "cell_type": "markdown",
   "metadata": {},
   "source": [
    "## Imports"
   ]
  },
  {
   "cell_type": "code",
   "execution_count": 1,
   "metadata": {
    "scrolled": true
   },
   "outputs": [
    {
     "name": "stderr",
     "output_type": "stream",
     "text": [
      "/home/utkarsh/Documents/pytorch_prac/plot.py:4: UserWarning: \n",
      "This call to matplotlib.use() has no effect because the backend has already\n",
      "been chosen; matplotlib.use() must be called *before* pylab, matplotlib.pyplot,\n",
      "or matplotlib.backends is imported for the first time.\n",
      "\n",
      "The backend was *originally* set to 'module://ipykernel.pylab.backend_inline' by the following code:\n",
      "  File \"/home/utkarsh/.conda/envs/fastai/lib/python3.6/runpy.py\", line 193, in _run_module_as_main\n",
      "    \"__main__\", mod_spec)\n",
      "  File \"/home/utkarsh/.conda/envs/fastai/lib/python3.6/runpy.py\", line 85, in _run_code\n",
      "    exec(code, run_globals)\n",
      "  File \"/home/utkarsh/.conda/envs/fastai/lib/python3.6/site-packages/ipykernel_launcher.py\", line 16, in <module>\n",
      "    app.launch_new_instance()\n",
      "  File \"/home/utkarsh/.conda/envs/fastai/lib/python3.6/site-packages/traitlets/config/application.py\", line 658, in launch_instance\n",
      "    app.start()\n",
      "  File \"/home/utkarsh/.conda/envs/fastai/lib/python3.6/site-packages/ipykernel/kernelapp.py\", line 478, in start\n",
      "    self.io_loop.start()\n",
      "  File \"/home/utkarsh/.conda/envs/fastai/lib/python3.6/site-packages/zmq/eventloop/ioloop.py\", line 177, in start\n",
      "    super(ZMQIOLoop, self).start()\n",
      "  File \"/home/utkarsh/.conda/envs/fastai/lib/python3.6/site-packages/tornado/ioloop.py\", line 888, in start\n",
      "    handler_func(fd_obj, events)\n",
      "  File \"/home/utkarsh/.conda/envs/fastai/lib/python3.6/site-packages/tornado/stack_context.py\", line 277, in null_wrapper\n",
      "    return fn(*args, **kwargs)\n",
      "  File \"/home/utkarsh/.conda/envs/fastai/lib/python3.6/site-packages/zmq/eventloop/zmqstream.py\", line 440, in _handle_events\n",
      "    self._handle_recv()\n",
      "  File \"/home/utkarsh/.conda/envs/fastai/lib/python3.6/site-packages/zmq/eventloop/zmqstream.py\", line 472, in _handle_recv\n",
      "    self._run_callback(callback, msg)\n",
      "  File \"/home/utkarsh/.conda/envs/fastai/lib/python3.6/site-packages/zmq/eventloop/zmqstream.py\", line 414, in _run_callback\n",
      "    callback(*args, **kwargs)\n",
      "  File \"/home/utkarsh/.conda/envs/fastai/lib/python3.6/site-packages/tornado/stack_context.py\", line 277, in null_wrapper\n",
      "    return fn(*args, **kwargs)\n",
      "  File \"/home/utkarsh/.conda/envs/fastai/lib/python3.6/site-packages/ipykernel/kernelbase.py\", line 283, in dispatcher\n",
      "    return self.dispatch_shell(stream, msg)\n",
      "  File \"/home/utkarsh/.conda/envs/fastai/lib/python3.6/site-packages/ipykernel/kernelbase.py\", line 233, in dispatch_shell\n",
      "    handler(stream, idents, msg)\n",
      "  File \"/home/utkarsh/.conda/envs/fastai/lib/python3.6/site-packages/ipykernel/kernelbase.py\", line 399, in execute_request\n",
      "    user_expressions, allow_stdin)\n",
      "  File \"/home/utkarsh/.conda/envs/fastai/lib/python3.6/site-packages/ipykernel/ipkernel.py\", line 208, in do_execute\n",
      "    res = shell.run_cell(code, store_history=store_history, silent=silent)\n",
      "  File \"/home/utkarsh/.conda/envs/fastai/lib/python3.6/site-packages/ipykernel/zmqshell.py\", line 537, in run_cell\n",
      "    return super(ZMQInteractiveShell, self).run_cell(*args, **kwargs)\n",
      "  File \"/home/utkarsh/.conda/envs/fastai/lib/python3.6/site-packages/IPython/core/interactiveshell.py\", line 2728, in run_cell\n",
      "    interactivity=interactivity, compiler=compiler, result=result)\n",
      "  File \"/home/utkarsh/.conda/envs/fastai/lib/python3.6/site-packages/IPython/core/interactiveshell.py\", line 2850, in run_ast_nodes\n",
      "    if self.run_code(code, result):\n",
      "  File \"/home/utkarsh/.conda/envs/fastai/lib/python3.6/site-packages/IPython/core/interactiveshell.py\", line 2910, in run_code\n",
      "    exec(code_obj, self.user_global_ns, self.user_ns)\n",
      "  File \"<ipython-input-1-6a6486c3de2a>\", line 1, in <module>\n",
      "    get_ipython().run_line_magic('matplotlib', 'inline')\n",
      "  File \"/home/utkarsh/.conda/envs/fastai/lib/python3.6/site-packages/IPython/core/interactiveshell.py\", line 2095, in run_line_magic\n",
      "    result = fn(*args,**kwargs)\n",
      "  File \"<decorator-gen-107>\", line 2, in matplotlib\n",
      "  File \"/home/utkarsh/.conda/envs/fastai/lib/python3.6/site-packages/IPython/core/magic.py\", line 187, in <lambda>\n",
      "    call = lambda f, *a, **k: f(*a, **k)\n",
      "  File \"/home/utkarsh/.conda/envs/fastai/lib/python3.6/site-packages/IPython/core/magics/pylab.py\", line 99, in matplotlib\n",
      "    gui, backend = self.shell.enable_matplotlib(args.gui)\n",
      "  File \"/home/utkarsh/.conda/envs/fastai/lib/python3.6/site-packages/IPython/core/interactiveshell.py\", line 2978, in enable_matplotlib\n",
      "    pt.activate_matplotlib(backend)\n",
      "  File \"/home/utkarsh/.conda/envs/fastai/lib/python3.6/site-packages/IPython/core/pylabtools.py\", line 308, in activate_matplotlib\n",
      "    matplotlib.pyplot.switch_backend(backend)\n",
      "  File \"/home/utkarsh/.conda/envs/fastai/lib/python3.6/site-packages/matplotlib/pyplot.py\", line 232, in switch_backend\n",
      "    matplotlib.use(newbackend, warn=False, force=True)\n",
      "  File \"/home/utkarsh/.conda/envs/fastai/lib/python3.6/site-packages/matplotlib/__init__.py\", line 1305, in use\n",
      "    reload(sys.modules['matplotlib.backends'])\n",
      "  File \"/home/utkarsh/.conda/envs/fastai/lib/python3.6/importlib/__init__.py\", line 166, in reload\n",
      "    _bootstrap._exec(spec, module)\n",
      "  File \"/home/utkarsh/.conda/envs/fastai/lib/python3.6/site-packages/matplotlib/backends/__init__.py\", line 14, in <module>\n",
      "    line for line in traceback.format_stack()\n",
      "\n",
      "\n",
      "  matplotlib.use('Agg')\n"
     ]
    }
   ],
   "source": [
    "%matplotlib inline\n",
    "import matplotlib.pyplot as plt\n",
    "from pathlib import Path\n",
    "from tqdm import *\n",
    "from __future__ import print_function\n",
    "import torch \n",
    "import torch.nn as nn\n",
    "import torch.nn.parallel\n",
    "import torch.optim as optim\n",
    "import torch.utils.data as data\n",
    "import torchvision.transforms as transforms\n",
    "import torchvision.utils as vutils\n",
    "from torch.autograd import Variable\n",
    "import torch.autograd as autograd\n",
    "from torch.optim.lr_scheduler import MultiStepLR\n",
    "from blur_face import blur_face\n",
    "import cv2\n",
    "import tflib as lib\n",
    "from plot import *\n",
    "import os\n",
    "import numpy as np\n",
    "from glob import glob\n",
    "from PIL import *\n",
    "from tqdm import tqdm\n",
    "import torchvision.datasets as dset\n",
    "from torch.optim import lr_scheduler\n",
    "\n",
    "import time\n",
    "import os\n",
    "import os.path"
   ]
  },
  {
   "cell_type": "markdown",
   "metadata": {},
   "source": [
    "## DataLoader and other data Preprocessing\n",
    "- Dataset class inherited to process small jpeg and original jpeg files to make folders for them\n",
    "- Split data into test train validate\n",
    "- impliment blurring for further test cases"
   ]
  },
  {
   "cell_type": "code",
   "execution_count": 2,
   "metadata": {},
   "outputs": [],
   "source": [
    "def default_loader(path):\n",
    "    return Image.open(path[0])"
   ]
  },
  {
   "cell_type": "code",
   "execution_count": 3,
   "metadata": {},
   "outputs": [],
   "source": [
    "def make_dataset(dir):\n",
    "    images = []\n",
    "    for root, _, fnames in sorted(os.walk(dir)):\n",
    "        for fname in sorted(fnames):\n",
    "            path = os.path.join(root, fname)\n",
    "            item = (path, 0)\n",
    "            images.append(item)\n",
    "\n",
    "    return images"
   ]
  },
  {
   "cell_type": "code",
   "execution_count": 4,
   "metadata": {},
   "outputs": [],
   "source": [
    "class LoadDataset(data.Dataset):\n",
    "\n",
    "    def __init__(self, root, transform=transforms.Compose([transforms.ToTensor()]),\n",
    "                 loader=default_loader):\n",
    "        print(\"Root :\",root+\"/origin/\")\n",
    "        y_imgs = make_dataset(root+\"/origin/\")\n",
    "#         x_imgs = make_dataset(root+\"/small/\")\n",
    "        if  (len(y_imgs) == 0):\n",
    "            raise(RuntimeError(\"Found 0 images in subfolders of: \" + root + \"\\n\"))\n",
    "\n",
    "        print(\"Found {} images in subfolders of: {}\".format(len(y_imgs), root))\n",
    "\n",
    "        self.root = root\n",
    "#         self.x_imgs = x_imgs\n",
    "        self.y_imgs = y_imgs\n",
    "        self.transform = transform\n",
    "#         self.target_transform = target_transform\n",
    "        self.loader = loader\n",
    "\n",
    "    def __getitem__(self, index):\n",
    "        target_path = self.y_imgs[index]\n",
    "#         path = self.x_imgs[index]\n",
    "#         img = self.loader(path)\n",
    "        target = self.loader(self.y_imgs[index])\n",
    "#         if self.transform is not None:\n",
    "#             img = self.transform(img)\n",
    "        if self.transform is not None:\n",
    "            target = self.transform(target)\n",
    "\n",
    "        return target\n",
    "\n",
    "    def __len__(self):\n",
    "        return len(self.y_imgs)"
   ]
  },
  {
   "cell_type": "markdown",
   "metadata": {},
   "source": [
    "### Pytorch's DataLoader"
   ]
  },
  {
   "cell_type": "code",
   "execution_count": 5,
   "metadata": {},
   "outputs": [],
   "source": [
    "def get_loader(root, batch_size, scale_size, num_workers=4, shuffle=True):\n",
    "    dataset_name = os.path.basename(root)\n",
    "    image_root = root\n",
    "    \n",
    "    dataset = LoadDataset(root=image_root, transform=transforms.Compose([\n",
    "        transforms.Resize(scale_size),\n",
    "        transforms.ToTensor(),\n",
    "    ]))\n",
    "\n",
    "    data_loader = torch.utils.data.DataLoader(\n",
    "        dataset, batch_size=batch_size, shuffle=shuffle, num_workers=int(num_workers))\n",
    "    data_loader.shape = [int(num) for num in dataset[0][0].size()]\n",
    "\n",
    "    return data_loader"
   ]
  },
  {
   "cell_type": "markdown",
   "metadata": {},
   "source": [
    "###### .......Chalo data to load hua!......."
   ]
  },
  {
   "cell_type": "markdown",
   "metadata": {},
   "source": [
    "###  A lil bit Housekeeping first :p"
   ]
  },
  {
   "cell_type": "code",
   "execution_count": 6,
   "metadata": {},
   "outputs": [],
   "source": [
    "DIM = 128              # This overfits substantially; you're probably better off with 64\n",
    "LAMBDA = 10            # Gradient penalty lambda hyperparameter\n",
    "CRITIC_ITERS = 5       # How many critic iterations per generator iteration\n",
    "BATCH_SIZE = 1        # Batch size\n",
    "ITERS = 200000         # How many generator iterations to train for\n",
    "OUTPUT_DIM = 3*128*128 # Number of pixels in our origin (3*128*128)"
   ]
  },
  {
   "cell_type": "code",
   "execution_count": 7,
   "metadata": {},
   "outputs": [
    {
     "data": {
      "text/plain": [
       "49152"
      ]
     },
     "execution_count": 7,
     "metadata": {},
     "output_type": "execute_result"
    }
   ],
   "source": [
    "3*128*128"
   ]
  },
  {
   "cell_type": "code",
   "execution_count": 8,
   "metadata": {},
   "outputs": [
    {
     "name": "stdout",
     "output_type": "stream",
     "text": [
      "Root : data/celeba/origin/\n",
      "Found 118997 images in subfolders of: data/celeba\n"
     ]
    }
   ],
   "source": [
    "trainloader = get_loader('data/celeba', BATCH_SIZE, DIM)"
   ]
  },
  {
   "cell_type": "code",
   "execution_count": 9,
   "metadata": {},
   "outputs": [],
   "source": [
    "# testloader = get_loader('data/celeba/test',BATCH_SIZE, DIM)"
   ]
  },
  {
   "cell_type": "markdown",
   "metadata": {},
   "source": [
    "#  Generative Adverserial Network Implimentation\n",
    "- Generator Class\n",
    "- Discriminator Class"
   ]
  },
  {
   "cell_type": "markdown",
   "metadata": {},
   "source": [
    "##  Generator\n",
    "### TODO\n",
    "- Restructure model to accomodate generator input as a image!"
   ]
  },
  {
   "cell_type": "code",
   "execution_count": 100,
   "metadata": {},
   "outputs": [],
   "source": [
    "class Generator(nn.Module):\n",
    "    def __init__(self):\n",
    "        super(Generator, self).__init__()\n",
    "        preprocess = nn.Sequential(\n",
    "            nn.Conv2d(3,  8 * DIM, 3, 2,padding = 1),\n",
    "            nn.BatchNorm2d( 8 * DIM),\n",
    "            nn.LeakyReLU(),\n",
    "            nn.Conv2d(8*DIM, 4*DIM, 3, 2,padding = 1),\n",
    "            nn.BatchNorm2d(4*DIM),\n",
    "            nn.LeakyReLU(),\n",
    "            nn.Conv2d(4*DIM, int(DIM*2), 3, 2,padding = 1),\n",
    "            nn.BatchNorm2d(int(DIM*2)),\n",
    "           nn.LeakyReLU(),\n",
    "        )\n",
    "\n",
    "        block1 = nn.Sequential(\n",
    "            nn.ConvTranspose2d(int(DIM*2),  int(DIM), 2, stride=2),\n",
    "            nn.BatchNorm2d(int(DIM)),\n",
    "            nn.LeakyReLU(),\n",
    "        )\n",
    "        block2 = nn.Sequential(\n",
    "            nn.ConvTranspose2d( int(DIM), int(DIM/2), 2, stride=2),\n",
    "            nn.BatchNorm2d(int(DIM/2)),\n",
    "            nn.LeakyReLU(),\n",
    "            \n",
    "            nn.ConvTranspose2d( int(DIM/2), int(DIM/4), 2, stride=2),\n",
    "            nn.BatchNorm2d(int(DIM/4)),\n",
    "             nn.LeakyReLU(),\n",
    "        )\n",
    "        block3= nn.Sequential(\n",
    "            nn.ConvTranspose2d( int(DIM/4), int(DIM/8), 2, stride=1),\n",
    "            nn.BatchNorm2d(int(DIM/8)),\n",
    "            nn.LeakyReLU(),\n",
    "            \n",
    "            nn.ConvTranspose2d( int(DIM/8), 3, 2, stride=1),\n",
    "            nn.BatchNorm2d(3),\n",
    "            nn.LeakyReLU(),\n",
    "            \n",
    "            nn.ConvTranspose2d(3, 3, 3, stride=1,padding =2),\n",
    "            nn.BatchNorm2d(3),\n",
    "            nn.LeakyReLU(),\n",
    "            \n",
    "        )\n",
    "        deconv_out = nn.ConvTranspose2d(3, 3, 3, stride=1,padding=1)\n",
    "        \n",
    "        self.preprocess = preprocess\n",
    "        self.block1 = block1\n",
    "        self.block2 = block2\n",
    "        self.block3 = block3\n",
    "        self.deconv_out = deconv_out\n",
    "        self.tanh = nn.Tanh()\n",
    "\n",
    "    def forward(self, input):\n",
    "#         print(input.size())\n",
    "        output = self.preprocess(input)\n",
    "#         output = output.view(-1, 4 * DIM, 4, 4)\n",
    "#         print(output.size())\n",
    "        output = self.block1(output)\n",
    "#         print(output.size())\n",
    "        output = self.block2(output)\n",
    "#         print(output.size())\n",
    "        output = self.block3(output)\n",
    "        print(output.size())\n",
    "        output = self.deconv_out(output, output_size = input.size())\n",
    "        print(output.size())\n",
    "        output = self.tanh(output)\n",
    "        return output.view(-1, 3, 128, 128)\n"
   ]
  },
  {
   "cell_type": "markdown",
   "metadata": {},
   "source": [
    "### Discriminator "
   ]
  },
  {
   "cell_type": "code",
   "execution_count": 112,
   "metadata": {},
   "outputs": [],
   "source": [
    "class Discriminator(nn.Module):\n",
    "    def __init__(self):\n",
    "        super(Discriminator, self).__init__()\n",
    "        main = nn.Sequential(\n",
    "            nn.ConvTranspose2d(3, 3, 3, stride = 1, padding=1), \n",
    "            nn.LeakyReLU(),\n",
    "            nn.ConvTranspose2d(3, 3, 3, stride = 1, padding=2), \n",
    "            nn.LeakyReLU(),\n",
    "            nn.ConvTranspose2d(3, int(DIM/8), 3, stride = 1), \n",
    "            nn.LeakyReLU(),\n",
    "            nn.ConvTranspose2d(int(DIM/8), int(DIM/4), 3, stride = 2), \n",
    "            nn.LeakyReLU(),\n",
    "            nn.ConvTranspose2d(int(DIM/4), int(DIM/2), 3, stride = 2), \n",
    "            nn.LeakyReLU(),\n",
    "            nn.ConvTranspose2d(int(DIM/2), int(DIM), 3, stride = 2), \n",
    "            nn.LeakyReLU(),\n",
    "            nn.ConvTranspose2d(int(DIM), int(DIM*2), 3, stride = 2), \n",
    "            nn.LeakyReLU(),\n",
    "            nn.Conv2d(2 * DIM, 4 * DIM, 3, 2, padding=1),\n",
    "            nn.LeakyReLU(),\n",
    "            nn.Conv2d(4 * DIM, 8 * DIM, 3, 2, padding=1),\n",
    "            nn.LeakyReLU(),\n",
    "        )\n",
    "\n",
    "        self.main = main\n",
    "        self.linear = nn.Linear(4*4*4*DIM, 1)\n",
    "\n",
    "    def forward(self, input):\n",
    "        output = self.main(input)\n",
    "        output = output.view(-1, 4*4*4*DIM)\n",
    "        output = self.linear(output)\n",
    "        return output"
   ]
  },
  {
   "cell_type": "markdown",
   "metadata": {},
   "source": [
    "### Instantiating"
   ]
  },
  {
   "cell_type": "code",
   "execution_count": 113,
   "metadata": {
    "scrolled": true
   },
   "outputs": [
    {
     "name": "stdout",
     "output_type": "stream",
     "text": [
      "Generator(\n",
      "  (preprocess): Sequential(\n",
      "    (0): Conv2d(3, 1024, kernel_size=(3, 3), stride=(2, 2), padding=(1, 1))\n",
      "    (1): BatchNorm2d(1024, eps=1e-05, momentum=0.1, affine=True)\n",
      "    (2): LeakyReLU(0.01)\n",
      "    (3): Conv2d(1024, 512, kernel_size=(3, 3), stride=(2, 2), padding=(1, 1))\n",
      "    (4): BatchNorm2d(512, eps=1e-05, momentum=0.1, affine=True)\n",
      "    (5): LeakyReLU(0.01)\n",
      "    (6): Conv2d(512, 256, kernel_size=(3, 3), stride=(2, 2), padding=(1, 1))\n",
      "    (7): BatchNorm2d(256, eps=1e-05, momentum=0.1, affine=True)\n",
      "    (8): LeakyReLU(0.01)\n",
      "  )\n",
      "  (block1): Sequential(\n",
      "    (0): ConvTranspose2d(256, 128, kernel_size=(2, 2), stride=(2, 2))\n",
      "    (1): BatchNorm2d(128, eps=1e-05, momentum=0.1, affine=True)\n",
      "    (2): LeakyReLU(0.01)\n",
      "  )\n",
      "  (block2): Sequential(\n",
      "    (0): ConvTranspose2d(128, 64, kernel_size=(2, 2), stride=(2, 2))\n",
      "    (1): BatchNorm2d(64, eps=1e-05, momentum=0.1, affine=True)\n",
      "    (2): LeakyReLU(0.01)\n",
      "    (3): ConvTranspose2d(64, 32, kernel_size=(2, 2), stride=(2, 2))\n",
      "    (4): BatchNorm2d(32, eps=1e-05, momentum=0.1, affine=True)\n",
      "    (5): LeakyReLU(0.01)\n",
      "  )\n",
      "  (block3): Sequential(\n",
      "    (0): ConvTranspose2d(32, 16, kernel_size=(2, 2), stride=(1, 1))\n",
      "    (1): BatchNorm2d(16, eps=1e-05, momentum=0.1, affine=True)\n",
      "    (2): LeakyReLU(0.01)\n",
      "    (3): ConvTranspose2d(16, 3, kernel_size=(2, 2), stride=(1, 1))\n",
      "    (4): BatchNorm2d(3, eps=1e-05, momentum=0.1, affine=True)\n",
      "    (5): LeakyReLU(0.01)\n",
      "    (6): ConvTranspose2d(3, 3, kernel_size=(3, 3), stride=(1, 1), padding=(2, 2))\n",
      "    (7): BatchNorm2d(3, eps=1e-05, momentum=0.1, affine=True)\n",
      "    (8): LeakyReLU(0.01)\n",
      "  )\n",
      "  (deconv_out): ConvTranspose2d(3, 3, kernel_size=(3, 3), stride=(1, 1), padding=(1, 1))\n",
      "  (tanh): Tanh()\n",
      ")\n",
      "Discriminator(\n",
      "  (main): Sequential(\n",
      "    (0): ConvTranspose2d(3, 3, kernel_size=(3, 3), stride=(1, 1), padding=(1, 1))\n",
      "    (1): LeakyReLU(0.01)\n",
      "    (2): ConvTranspose2d(3, 3, kernel_size=(3, 3), stride=(1, 1), padding=(2, 2))\n",
      "    (3): LeakyReLU(0.01)\n",
      "    (4): ConvTranspose2d(3, 16, kernel_size=(3, 3), stride=(1, 1))\n",
      "    (5): LeakyReLU(0.01)\n",
      "    (6): ConvTranspose2d(16, 32, kernel_size=(3, 3), stride=(2, 2))\n",
      "    (7): LeakyReLU(0.01)\n",
      "    (8): ConvTranspose2d(32, 64, kernel_size=(3, 3), stride=(2, 2))\n",
      "    (9): LeakyReLU(0.01)\n",
      "    (10): ConvTranspose2d(64, 128, kernel_size=(3, 3), stride=(2, 2))\n",
      "    (11): LeakyReLU(0.01)\n",
      "    (12): ConvTranspose2d(128, 256, kernel_size=(3, 3), stride=(2, 2))\n",
      "    (13): LeakyReLU(0.01)\n",
      "    (14): Conv2d(256, 512, kernel_size=(3, 3), stride=(2, 2), padding=(1, 1))\n",
      "    (15): LeakyReLU(0.01)\n",
      "    (16): Conv2d(512, 1024, kernel_size=(3, 3), stride=(2, 2), padding=(1, 1))\n",
      "    (17): LeakyReLU(0.01)\n",
      "  )\n",
      "  (linear): Linear(in_features=8192, out_features=1, bias=True)\n",
      ")\n"
     ]
    }
   ],
   "source": [
    "netG = Generator()\n",
    "netD = Discriminator()\n",
    "print (netG)\n",
    "print (netD)\n",
    "\n",
    "use_cuda = torch.cuda.is_available()\n",
    "if use_cuda:\n",
    "    gpu = 0\n",
    "if use_cuda:\n",
    "    netD = netD.cuda(gpu)\n",
    "    netG = netG.cuda(gpu)"
   ]
  },
  {
   "cell_type": "code",
   "execution_count": 103,
   "metadata": {},
   "outputs": [
    {
     "name": "stdout",
     "output_type": "stream",
     "text": [
      "\n",
      " 1\n",
      "[torch.FloatTensor of size 1]\n",
      " \n",
      "-1\n",
      "[torch.FloatTensor of size 1]\n",
      "\n"
     ]
    }
   ],
   "source": [
    "one = torch.FloatTensor([1])\n",
    "mone = one * -1\n",
    "if use_cuda:\n",
    "    one = one.cuda(gpu)\n",
    "    mone = mone.cuda(gpu)\n",
    "print(one,mone)    "
   ]
  },
  {
   "cell_type": "markdown",
   "metadata": {},
   "source": [
    "### This part makes this gan a wgan-gp \n",
    "#### Samaj ni ata bc :("
   ]
  },
  {
   "cell_type": "code",
   "execution_count": 104,
   "metadata": {},
   "outputs": [],
   "source": [
    "optimizerD = optim.Adam(netD.parameters(), lr=1e-4, betas=(0.5, 0.9))\n",
    "optimizerG = optim.Adam(netG.parameters(), lr=1e-4, betas=(0.5, 0.9))\n",
    "\n",
    "schedD = lr_scheduler.CosineAnnealingLR(optimizerD, 4000, eta_min=1e-5, last_epoch=-1)\n",
    "schedG = lr_scheduler.CosineAnnealingLR(optimizerG, 4000, eta_min=1e-5, last_epoch=-1)"
   ]
  },
  {
   "cell_type": "code",
   "execution_count": 105,
   "metadata": {},
   "outputs": [],
   "source": [
    "def calc_gradient_penalty(netD, real_data, fake_data):\n",
    "#     print( \"real_data: \", real_data.size(), fake_data.size(),BATCH_SIZE, real_data.nelement()/BATCH_SIZE)\n",
    "    alpha = torch.rand(BATCH_SIZE, 1)\n",
    "    alpha = alpha.expand(BATCH_SIZE, int(real_data.nelement()/BATCH_SIZE)).contiguous().view(BATCH_SIZE, 3, 128, 128)\n",
    "    alpha = alpha.cuda(gpu) if use_cuda else alpha\n",
    "\n",
    "    interpolates = alpha * real_data + ((1 - alpha) * fake_data)\n",
    "\n",
    "    if use_cuda:\n",
    "        interpolates = interpolates.cuda(gpu)\n",
    "    interpolates = Variable(interpolates, requires_grad=True)\n",
    "\n",
    "    disc_interpolates = netD(interpolates)\n",
    "\n",
    "    gradients = autograd.grad(outputs=disc_interpolates, inputs=interpolates,\n",
    "                              grad_outputs=torch.ones(disc_interpolates.size()).cuda(gpu) if use_cuda else torch.ones(\n",
    "                                  disc_interpolates.size()),\n",
    "                              create_graph=True, retain_graph=True, only_inputs=True)[0]\n",
    "    gradients = gradients.view(gradients.size(0), -1)\n",
    "\n",
    "    gradient_penalty = ((gradients.norm(2, dim=1) - 1) ** 2).mean() * LAMBDA\n",
    "    return gradient_penalty\n"
   ]
  },
  {
   "cell_type": "markdown",
   "metadata": {},
   "source": [
    "### For generating samples"
   ]
  },
  {
   "cell_type": "code",
   "execution_count": 106,
   "metadata": {},
   "outputs": [],
   "source": [
    "def generate_image(frame, netG):\n",
    "    fixed_noise_128 = torch.randn(128, 128)\n",
    "    if use_cuda:\n",
    "        fixed_noise_128 = fixed_noise_128.cuda(gpu)\n",
    "    noisev = autograd.Variable(fixed_noise_128, volatile=True)\n",
    "    samples = netG(noisev)\n",
    "    samples = samples.view(-1, 3, 128, 128)\n",
    "    samples = samples.mul(0.5).add(0.5)\n",
    "    samples = samples.cpu().data.numpy()\n",
    "\n",
    "    lib.save_images.save_images(samples, './tmp/celebA/samples_{}.jpg'.format(frame))"
   ]
  },
  {
   "cell_type": "markdown",
   "metadata": {},
   "source": [
    "### For calculating inception score"
   ]
  },
  {
   "cell_type": "code",
   "execution_count": 107,
   "metadata": {},
   "outputs": [],
   "source": [
    "def get_inception_score(G, ):\n",
    "    all_samples = []\n",
    "    for i in xrange(10):\n",
    "        samples_100 = torch.randn(100, 128)\n",
    "        if use_cuda:\n",
    "            samples_100 = samples_100.cuda(gpu)\n",
    "        samples_100 = autograd.Variable(samples_100, volatile=True)\n",
    "        all_samples.append(G(samples_100).cpu().data.numpy())\n",
    "\n",
    "    all_samples = np.concatenate(all_samples, axis=0)\n",
    "    all_samples = np.multiply(np.add(np.multiply(all_samples, 0.5), 0.5), 255).astype('int32')\n",
    "    all_samples = all_samples.reshape((-1, 3, 32, 32)).transpose(0, 2, 3, 1)\n",
    "    return lib.inception_score.get_inception_score(list(all_samples))\n"
   ]
  },
  {
   "cell_type": "markdown",
   "metadata": {},
   "source": [
    "### Dataset iterator"
   ]
  },
  {
   "cell_type": "code",
   "execution_count": 108,
   "metadata": {},
   "outputs": [],
   "source": [
    "# train_gen, dev_gen = lib.cifar10.load(BATCH_SIZE, data_dir=DATA_DIR)\n",
    "def inf_train_gen():\n",
    "    while True:\n",
    "        for images in trainloader:\n",
    "            # yield images.astype('float32').reshape(BATCH_SIZE, 3, 32, 32).transpose(0, 2, 3, 1)\n",
    "\n",
    "            yield images\n",
    "# def inf_test_gen():\n",
    "#     while True:\n",
    "#         for images in testloader:\n",
    "#             # yield images.astype('float32').reshape(BATCH_SIZE, 3, 32, 32).transpose(0, 2, 3, 1)\n",
    "\n",
    "#             yield images            \n",
    "gen = inf_train_gen()\n",
    "# dev_gen = inf_test_gen()\n",
    "preprocess = transforms.Compose([\n",
    "                               transforms.ToTensor(),\n",
    "                               transforms.Normalize((0.5, 0.5, 0.5), (0.5, 0.5, 0.5)),\n",
    "                           ])\n"
   ]
  },
  {
   "cell_type": "markdown",
   "metadata": {},
   "source": [
    "# Train Loop"
   ]
  },
  {
   "cell_type": "code",
   "execution_count": 109,
   "metadata": {},
   "outputs": [],
   "source": [
    "scale = transforms.Compose([\n",
    "                            transforms.Resize(32),\n",
    "                            transforms.Resize(128),\n",
    "                            transforms.ToTensor(),\n",
    "#                             transforms.Normalize(mean = [0.485, 0.456, 0.406],\n",
    "#                                                 std = [0.229, 0.224, 0.225])\n",
    "                            \n",
    "                            ])\n",
    "\n",
    "convert_pil = transforms.Compose([transforms.ToPILImage(),\n",
    "\n",
    "#                             transforms.Normalize(mean = [0.485, 0.456, 0.406],\n",
    "#                                                 std = [0.229, 0.224, 0.225])\n",
    "                            \n",
    "                            ])\n",
    "\n"
   ]
  },
  {
   "cell_type": "code",
   "execution_count": 110,
   "metadata": {},
   "outputs": [
    {
     "ename": "RuntimeError",
     "evalue": "While copying the parameter named preprocess.0.weight, whose dimensions in the model are torch.Size([1024, 3, 3, 3]) and whose dimensions in the checkpoint are torch.Size([256, 3, 3, 3]).",
     "output_type": "error",
     "traceback": [
      "\u001b[0;31m---------------------------------------------------------------------------\u001b[0m",
      "\u001b[0;31mRuntimeError\u001b[0m                              Traceback (most recent call last)",
      "\u001b[0;32m~/.conda/envs/fastai/lib/python3.6/site-packages/torch/nn/modules/module.py\u001b[0m in \u001b[0;36mload_state_dict\u001b[0;34m(self, state_dict, strict)\u001b[0m\n\u001b[1;32m    513\u001b[0m                 \u001b[0;32mtry\u001b[0m\u001b[0;34m:\u001b[0m\u001b[0;34m\u001b[0m\u001b[0m\n\u001b[0;32m--> 514\u001b[0;31m                     \u001b[0mown_state\u001b[0m\u001b[0;34m[\u001b[0m\u001b[0mname\u001b[0m\u001b[0;34m]\u001b[0m\u001b[0;34m.\u001b[0m\u001b[0mcopy_\u001b[0m\u001b[0;34m(\u001b[0m\u001b[0mparam\u001b[0m\u001b[0;34m)\u001b[0m\u001b[0;34m\u001b[0m\u001b[0m\n\u001b[0m\u001b[1;32m    515\u001b[0m                 \u001b[0;32mexcept\u001b[0m \u001b[0mException\u001b[0m\u001b[0;34m:\u001b[0m\u001b[0;34m\u001b[0m\u001b[0m\n",
      "\u001b[0;31mRuntimeError\u001b[0m: inconsistent tensor size, expected tensor [1024 x 3 x 3 x 3] and src [256 x 3 x 3 x 3] to have the same number of elements, but got 27648 and 6912 elements respectively at /opt/conda/conda-bld/pytorch_1518243271935/work/torch/lib/TH/generic/THTensorCopy.c:86",
      "\nDuring handling of the above exception, another exception occurred:\n",
      "\u001b[0;31mRuntimeError\u001b[0m                              Traceback (most recent call last)",
      "\u001b[0;32m<ipython-input-110-3e92f4218a68>\u001b[0m in \u001b[0;36m<module>\u001b[0;34m()\u001b[0m\n\u001b[1;32m      4\u001b[0m \u001b[0mmy_file1\u001b[0m \u001b[0;34m=\u001b[0m \u001b[0mPath\u001b[0m\u001b[0;34m(\u001b[0m\u001b[0;34m\"./netG.pth\"\u001b[0m\u001b[0;34m)\u001b[0m\u001b[0;34m\u001b[0m\u001b[0m\n\u001b[1;32m      5\u001b[0m \u001b[0;32mif\u001b[0m \u001b[0mmy_file1\u001b[0m\u001b[0;34m.\u001b[0m\u001b[0mis_file\u001b[0m\u001b[0;34m(\u001b[0m\u001b[0;34m)\u001b[0m\u001b[0;34m:\u001b[0m\u001b[0;34m\u001b[0m\u001b[0m\n\u001b[0;32m----> 6\u001b[0;31m     \u001b[0mnetG\u001b[0m\u001b[0;34m.\u001b[0m\u001b[0mload_state_dict\u001b[0m\u001b[0;34m(\u001b[0m\u001b[0mtorch\u001b[0m\u001b[0;34m.\u001b[0m\u001b[0mload\u001b[0m\u001b[0;34m(\u001b[0m\u001b[0;34m'netG.pth'\u001b[0m\u001b[0;34m,\u001b[0m \u001b[0mmap_location\u001b[0m\u001b[0;34m=\u001b[0m\u001b[0;32mlambda\u001b[0m \u001b[0mstorage\u001b[0m\u001b[0;34m,\u001b[0m \u001b[0mloc\u001b[0m\u001b[0;34m:\u001b[0m \u001b[0mstorage\u001b[0m\u001b[0;34m)\u001b[0m\u001b[0;34m)\u001b[0m\u001b[0;34m\u001b[0m\u001b[0m\n\u001b[0m",
      "\u001b[0;32m~/.conda/envs/fastai/lib/python3.6/site-packages/torch/nn/modules/module.py\u001b[0m in \u001b[0;36mload_state_dict\u001b[0;34m(self, state_dict, strict)\u001b[0m\n\u001b[1;32m    517\u001b[0m                                        \u001b[0;34m'whose dimensions in the model are {} and '\u001b[0m\u001b[0;34m\u001b[0m\u001b[0m\n\u001b[1;32m    518\u001b[0m                                        \u001b[0;34m'whose dimensions in the checkpoint are {}.'\u001b[0m\u001b[0;34m\u001b[0m\u001b[0m\n\u001b[0;32m--> 519\u001b[0;31m                                        .format(name, own_state[name].size(), param.size()))\n\u001b[0m\u001b[1;32m    520\u001b[0m             \u001b[0;32melif\u001b[0m \u001b[0mstrict\u001b[0m\u001b[0;34m:\u001b[0m\u001b[0;34m\u001b[0m\u001b[0m\n\u001b[1;32m    521\u001b[0m                 raise KeyError('unexpected key \"{}\" in state_dict'\n",
      "\u001b[0;31mRuntimeError\u001b[0m: While copying the parameter named preprocess.0.weight, whose dimensions in the model are torch.Size([1024, 3, 3, 3]) and whose dimensions in the checkpoint are torch.Size([256, 3, 3, 3])."
     ]
    }
   ],
   "source": [
    "my_file = Path(\"./netD.pth\")\n",
    "if my_file.is_file():\n",
    "    netD.load_state_dict(torch.load('netD.pth', map_location=lambda storage, loc: storage))\n",
    "my_file1 = Path(\"./netG.pth\")\n",
    "if my_file1.is_file():\n",
    "    netG.load_state_dict(torch.load('netG.pth', map_location=lambda storage, loc: storage))"
   ]
  },
  {
   "cell_type": "code",
   "execution_count": 114,
   "metadata": {},
   "outputs": [
    {
     "name": "stderr",
     "output_type": "stream",
     "text": [
      "  0%|          | 0/200000 [00:00<?, ?it/s]\n"
     ]
    },
    {
     "ename": "RuntimeError",
     "evalue": "$ Torch: not enough memory: you tried to allocate 4GB. Buy new RAM! at /opt/conda/conda-bld/pytorch_1518243271935/work/torch/lib/TH/THGeneral.c:253",
     "output_type": "error",
     "traceback": [
      "\u001b[0;31m---------------------------------------------------------------------------\u001b[0m",
      "\u001b[0;31mRuntimeError\u001b[0m                              Traceback (most recent call last)",
      "\u001b[0;32m<ipython-input-114-b18dad9662ea>\u001b[0m in \u001b[0;36m<module>\u001b[0;34m()\u001b[0m\n\u001b[1;32m     28\u001b[0m         \u001b[0;31m# torchvision.utils.save_image(real_data, filename)\u001b[0m\u001b[0;34m\u001b[0m\u001b[0;34m\u001b[0m\u001b[0m\n\u001b[1;32m     29\u001b[0m \u001b[0;34m\u001b[0m\u001b[0m\n\u001b[0;32m---> 30\u001b[0;31m         \u001b[0mD_real\u001b[0m \u001b[0;34m=\u001b[0m \u001b[0mnetD\u001b[0m\u001b[0;34m(\u001b[0m\u001b[0mreal_data_v\u001b[0m\u001b[0;34m)\u001b[0m\u001b[0;34m\u001b[0m\u001b[0m\n\u001b[0m\u001b[1;32m     31\u001b[0m         \u001b[0mD_real\u001b[0m \u001b[0;34m=\u001b[0m \u001b[0mD_real\u001b[0m\u001b[0;34m.\u001b[0m\u001b[0mmean\u001b[0m\u001b[0;34m(\u001b[0m\u001b[0;34m)\u001b[0m\u001b[0;34m\u001b[0m\u001b[0m\n\u001b[1;32m     32\u001b[0m         \u001b[0mD_real\u001b[0m\u001b[0;34m.\u001b[0m\u001b[0mbackward\u001b[0m\u001b[0;34m(\u001b[0m\u001b[0mmone\u001b[0m\u001b[0;34m)\u001b[0m\u001b[0;34m\u001b[0m\u001b[0m\n",
      "\u001b[0;32m~/.conda/envs/fastai/lib/python3.6/site-packages/torch/nn/modules/module.py\u001b[0m in \u001b[0;36m__call__\u001b[0;34m(self, *input, **kwargs)\u001b[0m\n\u001b[1;32m    355\u001b[0m             \u001b[0mresult\u001b[0m \u001b[0;34m=\u001b[0m \u001b[0mself\u001b[0m\u001b[0;34m.\u001b[0m\u001b[0m_slow_forward\u001b[0m\u001b[0;34m(\u001b[0m\u001b[0;34m*\u001b[0m\u001b[0minput\u001b[0m\u001b[0;34m,\u001b[0m \u001b[0;34m**\u001b[0m\u001b[0mkwargs\u001b[0m\u001b[0;34m)\u001b[0m\u001b[0;34m\u001b[0m\u001b[0m\n\u001b[1;32m    356\u001b[0m         \u001b[0;32melse\u001b[0m\u001b[0;34m:\u001b[0m\u001b[0;34m\u001b[0m\u001b[0m\n\u001b[0;32m--> 357\u001b[0;31m             \u001b[0mresult\u001b[0m \u001b[0;34m=\u001b[0m \u001b[0mself\u001b[0m\u001b[0;34m.\u001b[0m\u001b[0mforward\u001b[0m\u001b[0;34m(\u001b[0m\u001b[0;34m*\u001b[0m\u001b[0minput\u001b[0m\u001b[0;34m,\u001b[0m \u001b[0;34m**\u001b[0m\u001b[0mkwargs\u001b[0m\u001b[0;34m)\u001b[0m\u001b[0;34m\u001b[0m\u001b[0m\n\u001b[0m\u001b[1;32m    358\u001b[0m         \u001b[0;32mfor\u001b[0m \u001b[0mhook\u001b[0m \u001b[0;32min\u001b[0m \u001b[0mself\u001b[0m\u001b[0;34m.\u001b[0m\u001b[0m_forward_hooks\u001b[0m\u001b[0;34m.\u001b[0m\u001b[0mvalues\u001b[0m\u001b[0;34m(\u001b[0m\u001b[0;34m)\u001b[0m\u001b[0;34m:\u001b[0m\u001b[0;34m\u001b[0m\u001b[0m\n\u001b[1;32m    359\u001b[0m             \u001b[0mhook_result\u001b[0m \u001b[0;34m=\u001b[0m \u001b[0mhook\u001b[0m\u001b[0;34m(\u001b[0m\u001b[0mself\u001b[0m\u001b[0;34m,\u001b[0m \u001b[0minput\u001b[0m\u001b[0;34m,\u001b[0m \u001b[0mresult\u001b[0m\u001b[0;34m)\u001b[0m\u001b[0;34m\u001b[0m\u001b[0m\n",
      "\u001b[0;32m<ipython-input-112-b5690b1c2e2b>\u001b[0m in \u001b[0;36mforward\u001b[0;34m(self, input)\u001b[0m\n\u001b[1;32m     27\u001b[0m \u001b[0;34m\u001b[0m\u001b[0m\n\u001b[1;32m     28\u001b[0m     \u001b[0;32mdef\u001b[0m \u001b[0mforward\u001b[0m\u001b[0;34m(\u001b[0m\u001b[0mself\u001b[0m\u001b[0;34m,\u001b[0m \u001b[0minput\u001b[0m\u001b[0;34m)\u001b[0m\u001b[0;34m:\u001b[0m\u001b[0;34m\u001b[0m\u001b[0m\n\u001b[0;32m---> 29\u001b[0;31m         \u001b[0moutput\u001b[0m \u001b[0;34m=\u001b[0m \u001b[0mself\u001b[0m\u001b[0;34m.\u001b[0m\u001b[0mmain\u001b[0m\u001b[0;34m(\u001b[0m\u001b[0minput\u001b[0m\u001b[0;34m)\u001b[0m\u001b[0;34m\u001b[0m\u001b[0m\n\u001b[0m\u001b[1;32m     30\u001b[0m         \u001b[0moutput\u001b[0m \u001b[0;34m=\u001b[0m \u001b[0moutput\u001b[0m\u001b[0;34m.\u001b[0m\u001b[0mview\u001b[0m\u001b[0;34m(\u001b[0m\u001b[0;34m-\u001b[0m\u001b[0;36m1\u001b[0m\u001b[0;34m,\u001b[0m \u001b[0;36m4\u001b[0m\u001b[0;34m*\u001b[0m\u001b[0;36m4\u001b[0m\u001b[0;34m*\u001b[0m\u001b[0;36m4\u001b[0m\u001b[0;34m*\u001b[0m\u001b[0mDIM\u001b[0m\u001b[0;34m)\u001b[0m\u001b[0;34m\u001b[0m\u001b[0m\n\u001b[1;32m     31\u001b[0m         \u001b[0moutput\u001b[0m \u001b[0;34m=\u001b[0m \u001b[0mself\u001b[0m\u001b[0;34m.\u001b[0m\u001b[0mlinear\u001b[0m\u001b[0;34m(\u001b[0m\u001b[0moutput\u001b[0m\u001b[0;34m)\u001b[0m\u001b[0;34m\u001b[0m\u001b[0m\n",
      "\u001b[0;32m~/.conda/envs/fastai/lib/python3.6/site-packages/torch/nn/modules/module.py\u001b[0m in \u001b[0;36m__call__\u001b[0;34m(self, *input, **kwargs)\u001b[0m\n\u001b[1;32m    355\u001b[0m             \u001b[0mresult\u001b[0m \u001b[0;34m=\u001b[0m \u001b[0mself\u001b[0m\u001b[0;34m.\u001b[0m\u001b[0m_slow_forward\u001b[0m\u001b[0;34m(\u001b[0m\u001b[0;34m*\u001b[0m\u001b[0minput\u001b[0m\u001b[0;34m,\u001b[0m \u001b[0;34m**\u001b[0m\u001b[0mkwargs\u001b[0m\u001b[0;34m)\u001b[0m\u001b[0;34m\u001b[0m\u001b[0m\n\u001b[1;32m    356\u001b[0m         \u001b[0;32melse\u001b[0m\u001b[0;34m:\u001b[0m\u001b[0;34m\u001b[0m\u001b[0m\n\u001b[0;32m--> 357\u001b[0;31m             \u001b[0mresult\u001b[0m \u001b[0;34m=\u001b[0m \u001b[0mself\u001b[0m\u001b[0;34m.\u001b[0m\u001b[0mforward\u001b[0m\u001b[0;34m(\u001b[0m\u001b[0;34m*\u001b[0m\u001b[0minput\u001b[0m\u001b[0;34m,\u001b[0m \u001b[0;34m**\u001b[0m\u001b[0mkwargs\u001b[0m\u001b[0;34m)\u001b[0m\u001b[0;34m\u001b[0m\u001b[0m\n\u001b[0m\u001b[1;32m    358\u001b[0m         \u001b[0;32mfor\u001b[0m \u001b[0mhook\u001b[0m \u001b[0;32min\u001b[0m \u001b[0mself\u001b[0m\u001b[0;34m.\u001b[0m\u001b[0m_forward_hooks\u001b[0m\u001b[0;34m.\u001b[0m\u001b[0mvalues\u001b[0m\u001b[0;34m(\u001b[0m\u001b[0;34m)\u001b[0m\u001b[0;34m:\u001b[0m\u001b[0;34m\u001b[0m\u001b[0m\n\u001b[1;32m    359\u001b[0m             \u001b[0mhook_result\u001b[0m \u001b[0;34m=\u001b[0m \u001b[0mhook\u001b[0m\u001b[0;34m(\u001b[0m\u001b[0mself\u001b[0m\u001b[0;34m,\u001b[0m \u001b[0minput\u001b[0m\u001b[0;34m,\u001b[0m \u001b[0mresult\u001b[0m\u001b[0;34m)\u001b[0m\u001b[0;34m\u001b[0m\u001b[0m\n",
      "\u001b[0;32m~/.conda/envs/fastai/lib/python3.6/site-packages/torch/nn/modules/container.py\u001b[0m in \u001b[0;36mforward\u001b[0;34m(self, input)\u001b[0m\n\u001b[1;32m     65\u001b[0m     \u001b[0;32mdef\u001b[0m \u001b[0mforward\u001b[0m\u001b[0;34m(\u001b[0m\u001b[0mself\u001b[0m\u001b[0;34m,\u001b[0m \u001b[0minput\u001b[0m\u001b[0;34m)\u001b[0m\u001b[0;34m:\u001b[0m\u001b[0;34m\u001b[0m\u001b[0m\n\u001b[1;32m     66\u001b[0m         \u001b[0;32mfor\u001b[0m \u001b[0mmodule\u001b[0m \u001b[0;32min\u001b[0m \u001b[0mself\u001b[0m\u001b[0;34m.\u001b[0m\u001b[0m_modules\u001b[0m\u001b[0;34m.\u001b[0m\u001b[0mvalues\u001b[0m\u001b[0;34m(\u001b[0m\u001b[0;34m)\u001b[0m\u001b[0;34m:\u001b[0m\u001b[0;34m\u001b[0m\u001b[0m\n\u001b[0;32m---> 67\u001b[0;31m             \u001b[0minput\u001b[0m \u001b[0;34m=\u001b[0m \u001b[0mmodule\u001b[0m\u001b[0;34m(\u001b[0m\u001b[0minput\u001b[0m\u001b[0;34m)\u001b[0m\u001b[0;34m\u001b[0m\u001b[0m\n\u001b[0m\u001b[1;32m     68\u001b[0m         \u001b[0;32mreturn\u001b[0m \u001b[0minput\u001b[0m\u001b[0;34m\u001b[0m\u001b[0m\n\u001b[1;32m     69\u001b[0m \u001b[0;34m\u001b[0m\u001b[0m\n",
      "\u001b[0;32m~/.conda/envs/fastai/lib/python3.6/site-packages/torch/nn/modules/module.py\u001b[0m in \u001b[0;36m__call__\u001b[0;34m(self, *input, **kwargs)\u001b[0m\n\u001b[1;32m    355\u001b[0m             \u001b[0mresult\u001b[0m \u001b[0;34m=\u001b[0m \u001b[0mself\u001b[0m\u001b[0;34m.\u001b[0m\u001b[0m_slow_forward\u001b[0m\u001b[0;34m(\u001b[0m\u001b[0;34m*\u001b[0m\u001b[0minput\u001b[0m\u001b[0;34m,\u001b[0m \u001b[0;34m**\u001b[0m\u001b[0mkwargs\u001b[0m\u001b[0;34m)\u001b[0m\u001b[0;34m\u001b[0m\u001b[0m\n\u001b[1;32m    356\u001b[0m         \u001b[0;32melse\u001b[0m\u001b[0;34m:\u001b[0m\u001b[0;34m\u001b[0m\u001b[0m\n\u001b[0;32m--> 357\u001b[0;31m             \u001b[0mresult\u001b[0m \u001b[0;34m=\u001b[0m \u001b[0mself\u001b[0m\u001b[0;34m.\u001b[0m\u001b[0mforward\u001b[0m\u001b[0;34m(\u001b[0m\u001b[0;34m*\u001b[0m\u001b[0minput\u001b[0m\u001b[0;34m,\u001b[0m \u001b[0;34m**\u001b[0m\u001b[0mkwargs\u001b[0m\u001b[0;34m)\u001b[0m\u001b[0;34m\u001b[0m\u001b[0m\n\u001b[0m\u001b[1;32m    358\u001b[0m         \u001b[0;32mfor\u001b[0m \u001b[0mhook\u001b[0m \u001b[0;32min\u001b[0m \u001b[0mself\u001b[0m\u001b[0;34m.\u001b[0m\u001b[0m_forward_hooks\u001b[0m\u001b[0;34m.\u001b[0m\u001b[0mvalues\u001b[0m\u001b[0;34m(\u001b[0m\u001b[0;34m)\u001b[0m\u001b[0;34m:\u001b[0m\u001b[0;34m\u001b[0m\u001b[0m\n\u001b[1;32m    359\u001b[0m             \u001b[0mhook_result\u001b[0m \u001b[0;34m=\u001b[0m \u001b[0mhook\u001b[0m\u001b[0;34m(\u001b[0m\u001b[0mself\u001b[0m\u001b[0;34m,\u001b[0m \u001b[0minput\u001b[0m\u001b[0;34m,\u001b[0m \u001b[0mresult\u001b[0m\u001b[0;34m)\u001b[0m\u001b[0;34m\u001b[0m\u001b[0m\n",
      "\u001b[0;32m~/.conda/envs/fastai/lib/python3.6/site-packages/torch/nn/modules/conv.py\u001b[0m in \u001b[0;36mforward\u001b[0;34m(self, input, output_size)\u001b[0m\n\u001b[1;32m    604\u001b[0m         return F.conv_transpose2d(\n\u001b[1;32m    605\u001b[0m             \u001b[0minput\u001b[0m\u001b[0;34m,\u001b[0m \u001b[0mself\u001b[0m\u001b[0;34m.\u001b[0m\u001b[0mweight\u001b[0m\u001b[0;34m,\u001b[0m \u001b[0mself\u001b[0m\u001b[0;34m.\u001b[0m\u001b[0mbias\u001b[0m\u001b[0;34m,\u001b[0m \u001b[0mself\u001b[0m\u001b[0;34m.\u001b[0m\u001b[0mstride\u001b[0m\u001b[0;34m,\u001b[0m \u001b[0mself\u001b[0m\u001b[0;34m.\u001b[0m\u001b[0mpadding\u001b[0m\u001b[0;34m,\u001b[0m\u001b[0;34m\u001b[0m\u001b[0m\n\u001b[0;32m--> 606\u001b[0;31m             output_padding, self.groups, self.dilation)\n\u001b[0m\u001b[1;32m    607\u001b[0m \u001b[0;34m\u001b[0m\u001b[0m\n\u001b[1;32m    608\u001b[0m \u001b[0;34m\u001b[0m\u001b[0m\n",
      "\u001b[0;32m~/.conda/envs/fastai/lib/python3.6/site-packages/torch/nn/functional.py\u001b[0m in \u001b[0;36mconv_transpose2d\u001b[0;34m(input, weight, bias, stride, padding, output_padding, groups, dilation)\u001b[0m\n\u001b[1;32m    190\u001b[0m                 \u001b[0m_pair\u001b[0m\u001b[0;34m(\u001b[0m\u001b[0moutput_padding\u001b[0m\u001b[0;34m)\u001b[0m\u001b[0;34m,\u001b[0m \u001b[0mgroups\u001b[0m\u001b[0;34m,\u001b[0m \u001b[0mtorch\u001b[0m\u001b[0;34m.\u001b[0m\u001b[0mbackends\u001b[0m\u001b[0;34m.\u001b[0m\u001b[0mcudnn\u001b[0m\u001b[0;34m.\u001b[0m\u001b[0mbenchmark\u001b[0m\u001b[0;34m,\u001b[0m\u001b[0;34m\u001b[0m\u001b[0m\n\u001b[1;32m    191\u001b[0m                 torch.backends.cudnn.deterministic, torch.backends.cudnn.enabled)\n\u001b[0;32m--> 192\u001b[0;31m     \u001b[0;32mreturn\u001b[0m \u001b[0mf\u001b[0m\u001b[0;34m(\u001b[0m\u001b[0minput\u001b[0m\u001b[0;34m,\u001b[0m \u001b[0mweight\u001b[0m\u001b[0;34m,\u001b[0m \u001b[0mbias\u001b[0m\u001b[0;34m)\u001b[0m\u001b[0;34m\u001b[0m\u001b[0m\n\u001b[0m\u001b[1;32m    193\u001b[0m \u001b[0;34m\u001b[0m\u001b[0m\n\u001b[1;32m    194\u001b[0m \u001b[0;34m\u001b[0m\u001b[0m\n",
      "\u001b[0;31mRuntimeError\u001b[0m: $ Torch: not enough memory: you tried to allocate 4GB. Buy new RAM! at /opt/conda/conda-bld/pytorch_1518243271935/work/torch/lib/TH/THGeneral.c:253"
     ]
    }
   ],
   "source": [
    "for iteration in tqdm(range(ITERS)):\n",
    "    start_time = time.time()\n",
    "    ############################\n",
    "    # (1) Update D network\n",
    "    ###########################\n",
    "    for p in netD.parameters():  # reset requires_grad\n",
    "        p.requires_grad = True  # they are set to False below in netG update\n",
    "    for i in range(CRITIC_ITERS):\n",
    "        _data = next(gen)\n",
    "        noise = torch.FloatTensor(BATCH_SIZE, 3, 128, 128)\n",
    "        netD.zero_grad()\n",
    "        # train with real\n",
    "        _data = _data.view(BATCH_SIZE, 3, 128, 128)\n",
    "        #_data = _data.permute(0, 2, 3, 1)\n",
    "        for j in range(BATCH_SIZE):\n",
    "            pilimg = convert_pil(_data[j])\n",
    "            im1 = pilimg.filter(ImageFilter.BLUR)\n",
    "            noise[j] = scale(im1)\n",
    "\n",
    "        real_data = torch.stack([item for item in _data])\n",
    "\n",
    "        if use_cuda:\n",
    "            real_data = real_data.cuda(gpu)\n",
    "        real_data_v = Variable(real_data)\n",
    "        \n",
    "        # import torchvision\n",
    "        # filename = os.path.join(\"test_train_data\", str(iteration) + str(i) + \".jpg\")\n",
    "        # torchvision.utils.save_image(real_data, filename)\n",
    "\n",
    "        D_real = netD(real_data_v)\n",
    "        D_real = D_real.mean()\n",
    "        D_real.backward(mone)\n",
    "\n",
    "        # train with fake\n",
    "        noise = torch.stack([item for item in noise])\n",
    "        if use_cuda:\n",
    "            noise = noise.cuda(gpu)\n",
    "            \n",
    "        noisev = Variable(noise, volatile=True)  # totally freeze netG\n",
    "        fake = Variable(netG(noisev).data)\n",
    "        inputv = fake\n",
    "        D_fake = netD(inputv)\n",
    "        D_fake = D_fake.mean()\n",
    "        D_fake.backward(one)\n",
    "\n",
    "        # train with gradient penalty\n",
    "        gradient_penalty = calc_gradient_penalty(netD, real_data_v.data, fake.data)\n",
    "        gradient_penalty.backward()\n",
    "\n",
    "        # print \"gradien_penalty: \", gradient_penalty\n",
    "\n",
    "        D_cost = D_fake - D_real + gradient_penalty\n",
    "        Wasserstein_D = D_real - D_fake\n",
    "        optimizerD.step()\n",
    "    ############################\n",
    "    # (2) Update G network\n",
    "    ###########################\n",
    "    for p in netD.parameters():\n",
    "        p.requires_grad = False  # to avoid computation\n",
    "    netG.zero_grad()\n",
    "    _data = next(gen).view(BATCH_SIZE, 3, 128, 128)\n",
    "    noise = torch.FloatTensor(BATCH_SIZE, 3, 128, 128)\n",
    "    for j in range(BATCH_SIZE):\n",
    "            noise[j] = scale(_data[j])\n",
    "    if use_cuda:\n",
    "        noise = noise.cuda(gpu)\n",
    "#     noise = torch.stack([item for item in noise])\n",
    "#     print(noise.size())\n",
    "    noisev = Variable(noise)\n",
    "    fake = netG(noisev)\n",
    "    G = netD(fake)\n",
    "    G = G.mean()\n",
    "    G.backward(mone)\n",
    "    G_cost = -G\n",
    "    optimizerG.step()\n",
    "\n",
    "    # Write logs and save samples\n",
    "    plot('./tmp/celebA/train disc cost', D_cost.cpu().data.numpy())\n",
    "    plot('./tmp/celebA/time', time.time() - start_time)\n",
    "    plot('./tmp/celebA/train gen cost', G_cost.cpu().data.numpy())\n",
    "    plot('./tmp/celebA/wasserstein distance', Wasserstein_D.cpu().data.numpy())\n",
    "\n",
    "    # Calculate inception score every 1K iters\n",
    "    if False and iteration % 1000 == 999:\n",
    "        inception_score = get_inception_score(netG)\n",
    "        plot('./tmp/celebA/inception score', inception_score[0])\n",
    "\n",
    "    # Calculate dev loss and generate samples every 100 iters\n",
    "    if iteration % 100 == 99:\n",
    "        dev_disc_costs = []\n",
    "        i=0\n",
    "        for images in (dev_gen):\n",
    "            print (str(i)+\"\\r\",end=\"\")\n",
    "            i+=1\n",
    "            images = images.view(BATCH_SIZE, 3, 128, 128)\n",
    "#             images = images.permute(0, 2, 3, 1)\n",
    "            imgs = torch.stack([item for item in images])\n",
    "\n",
    "            # imgs = preprocess(images)\n",
    "            if use_cuda:\n",
    "                imgs = imgs.cuda(gpu)\n",
    "            imgs_v = Variable(imgs, volatile=True)\n",
    "\n",
    "            D = netD(imgs_v)\n",
    "            _dev_disc_cost = -D.mean().cpu().data.numpy()\n",
    "            dev_disc_costs.append(_dev_disc_cost)\n",
    "        plot('./tmp/celebA/dev disc cost', np.mean(dev_disc_costs))\n",
    "\n",
    "#         generate_image(iteration, netG)\n",
    "\n",
    "    # Save logs every 100 iters\n",
    "    if (iteration < 5) or (iteration % 100 == 99):\n",
    "        flush()\n",
    "    tick()\n",
    "    if(iteration % 50 == 0):\n",
    "        print(\"Saved !\",end=\"\\r\")\n",
    "        torch.save(netD.state_dict(), './netD.pth')\n",
    "        torch.save(netG.state_dict(), './netG.pth')\n",
    "        \n",
    "        vutils.save_image(fake.data, '%s/fake_samples_epoch_%03d.png' % ('./results',iteration), normalize= True)\n"
   ]
  },
  {
   "cell_type": "code",
   "execution_count": null,
   "metadata": {},
   "outputs": [],
   "source": [
    "from PIL import Image\n"
   ]
  },
  {
   "cell_type": "code",
   "execution_count": null,
   "metadata": {},
   "outputs": [],
   "source": [
    "rescale = transforms.Compose([\n",
    "                            transforms.Resize(128),\n",
    "                            transforms.ToTensor(),\n",
    "#                             transforms.Normalize(mean = [0.485, 0.456, 0.406],\n",
    "#                                                 std = [0.229, 0.224, 0.225])\n",
    "                            \n",
    "                            ])\n",
    "rescale_1 = transforms.Compose([\n",
    "                            transforms.Resize(128),\n",
    "#                             transforms.ToTensor(),\n",
    "#                             transforms.Normalize(mean = [0.485, 0.456, 0.406],\n",
    "#                                                 std = [0.229, 0.224, 0.225])\n",
    "                            \n",
    "                            ])"
   ]
  },
  {
   "cell_type": "code",
   "execution_count": null,
   "metadata": {},
   "outputs": [],
   "source": [
    "im = Image.open(\"input.jpg\")\n",
    "a = rescale(im)\n",
    "a = Variable(a)\n",
    "a = netG(a.view(-1,3,128,128))\n",
    "# rescale_1(a)\n",
    "vutils.save_image(a.data, 'result.png', normalize= True)"
   ]
  },
  {
   "cell_type": "code",
   "execution_count": null,
   "metadata": {},
   "outputs": [],
   "source": []
  },
  {
   "cell_type": "code",
   "execution_count": null,
   "metadata": {},
   "outputs": [],
   "source": []
  },
  {
   "cell_type": "code",
   "execution_count": null,
   "metadata": {},
   "outputs": [],
   "source": []
  },
  {
   "cell_type": "code",
   "execution_count": null,
   "metadata": {},
   "outputs": [],
   "source": []
  }
 ],
 "metadata": {
  "kernelspec": {
   "display_name": "Python 3",
   "language": "python",
   "name": "python3"
  },
  "language_info": {
   "codemirror_mode": {
    "name": "ipython",
    "version": 3
   },
   "file_extension": ".py",
   "mimetype": "text/x-python",
   "name": "python",
   "nbconvert_exporter": "python",
   "pygments_lexer": "ipython3",
   "version": "3.6.4"
  }
 },
 "nbformat": 4,
 "nbformat_minor": 2
}
